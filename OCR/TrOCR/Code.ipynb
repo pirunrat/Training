{
 "cells": [
  {
   "cell_type": "markdown",
   "id": "fdd00b7e",
   "metadata": {},
   "source": [
    "# TrOCR Implementation"
   ]
  },
  {
   "cell_type": "markdown",
   "id": "4ba8b5e9",
   "metadata": {},
   "source": []
  }
 ],
 "metadata": {
  "language_info": {
   "name": "python"
  }
 },
 "nbformat": 4,
 "nbformat_minor": 5
}
