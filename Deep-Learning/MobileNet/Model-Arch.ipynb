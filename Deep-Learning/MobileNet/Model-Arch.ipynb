{
 "cells": [
  {
   "cell_type": "code",
   "execution_count": 20,
   "id": "468aaa78",
   "metadata": {},
   "outputs": [],
   "source": [
    "import torch\n",
    "import torch.nn as nn\n",
    "import torch.nn.functional as F\n",
    "from pathlib import Path\n",
    "from PIL import Image\n",
    "from torchvision import transforms\n",
    "import matplotlib.pyplot as plt"
   ]
  },
  {
   "cell_type": "markdown",
   "id": "7f9509c0",
   "metadata": {},
   "source": [
    "# Define Depth-Wise Separable Convolution"
   ]
  },
  {
   "cell_type": "code",
   "execution_count": 17,
   "id": "83cb2fa9",
   "metadata": {},
   "outputs": [],
   "source": [
    "class DepthwiseSeparableConv2d(nn.Module):\n",
    "    def __init__(self, in_channels, out_channels,\n",
    "                 kernel_size=3, stride=1, padding=1):\n",
    "        super().__init__()\n",
    "\n",
    "        self.depthwise = nn.Conv2d(\n",
    "            in_channels, in_channels,\n",
    "            kernel_size=kernel_size, stride=stride, padding=padding,\n",
    "            groups=in_channels, bias=False\n",
    "        )\n",
    "        self.dw_bn = nn.BatchNorm2d(in_channels)\n",
    "\n",
    "        self.pointwise = nn.Conv2d(\n",
    "            in_channels, out_channels, kernel_size=1, bias=False\n",
    "        )\n",
    "        self.pw_bn = nn.BatchNorm2d(out_channels)\n",
    "\n",
    "        self.relu = nn.ReLU(inplace=True)\n",
    "\n",
    "    def forward(self, x):\n",
    "        x = self.relu(self.dw_bn(self.depthwise(x)))\n",
    "        x = self.relu(self.pw_bn(self.pointwise(x)))\n",
    "        return x\n"
   ]
  },
  {
   "cell_type": "markdown",
   "id": "78088332",
   "metadata": {},
   "source": [
    "# MobileNet"
   ]
  },
  {
   "cell_type": "code",
   "execution_count": 30,
   "id": "0e6effc1",
   "metadata": {},
   "outputs": [],
   "source": [
    "class MobileNet(nn.Module):\n",
    "    def __init__(self, num_classes=1000):\n",
    "        super().__init__()\n",
    "        self.features = nn.Sequential(\n",
    "            nn.Conv2d(3, 32, kernel_size=3, stride=2, padding=1, bias=False),\n",
    "            nn.BatchNorm2d(32),\n",
    "            nn.ReLU(inplace=True),\n",
    "\n",
    "            DepthwiseSeparableConv2d(32, 64, kernel_size=3, stride=1, padding=1),\n",
    "            DepthwiseSeparableConv2d(64, 128, kernel_size=3, stride=2, padding=1),\n",
    "            DepthwiseSeparableConv2d(128, 128, kernel_size=3, stride=1, padding=1),\n",
    "            DepthwiseSeparableConv2d(128, 256, kernel_size=3, stride=2, padding=1),\n",
    "            DepthwiseSeparableConv2d(256, 256, kernel_size=3, stride=1, padding=1),\n",
    "            DepthwiseSeparableConv2d(256, 512, kernel_size=3, stride=2, padding=1),\n",
    "\n",
    "            *[DepthwiseSeparableConv2d(512, 512, kernel_size=3, stride=1, padding=1) for _ in range(5)],\n",
    "\n",
    "            DepthwiseSeparableConv2d(512, 1024, kernel_size=3, stride=2, padding=1),\n",
    "            DepthwiseSeparableConv2d(1024, 1024, kernel_size=3, stride=1, padding=1),         \n",
    "        )\n",
    "\n",
    "        # Classification head\n",
    "        self.pool = nn.AdaptiveAvgPool2d(1)\n",
    "        self.classifier = nn.Linear(1024, num_classes)\n",
    "    \n",
    "    def forward(self, x):\n",
    "        x = self.features(x)\n",
    "        x = self.pool(x)\n",
    "        x = torch.flatten(x,1)\n",
    "        x = self.classifier(x)\n",
    "\n",
    "        return x"
   ]
  },
  {
   "cell_type": "code",
   "execution_count": 33,
   "id": "af2f1882",
   "metadata": {},
   "outputs": [
    {
     "name": "stdout",
     "output_type": "stream",
     "text": [
      "torch.Size([1, 3, 256, 256])\n"
     ]
    }
   ],
   "source": [
    "def load_image_as_tensor(path,\n",
    "                         img_size=224,\n",
    "                         mean=(0.485, 0.456, 0.406),\n",
    "                         std=(0.229, 0.224, 0.225),\n",
    "                         add_batch_dim=True,\n",
    "                         device=\"cpu\"):\n",
    "    # 1. Load image\n",
    "    img = Image.open(path).convert(\"RGB\")\n",
    "\n",
    "    # 2. Define transforms\n",
    "    tfm = transforms.Compose([\n",
    "        transforms.Resize(img_size + 32),  # resize slightly larger first\n",
    "        transforms.CenterCrop(img_size),\n",
    "        transforms.ToTensor(),             # [0,1] range, shape (C,H,W)\n",
    "        transforms.Normalize(mean, std),\n",
    "    ])\n",
    "\n",
    "    # 3. Apply transforms\n",
    "    tensor = tfm(img)\n",
    "\n",
    "    # 4. Optional batch dimension\n",
    "    if add_batch_dim:\n",
    "        tensor = tensor.unsqueeze(0)       # shape (1,C,H,W)\n",
    "\n",
    "    return tensor.to(device, non_blocking=True)\n",
    "\n",
    "\n",
    "# Example\n",
    "if __name__ == \"__main__\":\n",
    "    x = load_image_as_tensor(\"../../dent2.jpeg\", img_size=256, device=\"cuda\")\n",
    "    print(x.shape)  # e.g. torch.Size([1, 3, 256, 256])"
   ]
  },
  {
   "cell_type": "code",
   "execution_count": 35,
   "id": "849a408e",
   "metadata": {},
   "outputs": [
    {
     "name": "stdout",
     "output_type": "stream",
     "text": [
      "torch.Size([1, 1000])\n"
     ]
    }
   ],
   "source": [
    "model = MobileNet()\n",
    "model = model.to(\"cuda\")\n",
    "out = model(x)\n",
    "\n",
    "print(out.shape)"
   ]
  },
  {
   "cell_type": "code",
   "execution_count": null,
   "id": "079ca824",
   "metadata": {},
   "outputs": [],
   "source": []
  }
 ],
 "metadata": {
  "kernelspec": {
   "display_name": "Python 3",
   "language": "python",
   "name": "python3"
  },
  "language_info": {
   "codemirror_mode": {
    "name": "ipython",
    "version": 3
   },
   "file_extension": ".py",
   "mimetype": "text/x-python",
   "name": "python",
   "nbconvert_exporter": "python",
   "pygments_lexer": "ipython3",
   "version": "3.9.0"
  }
 },
 "nbformat": 4,
 "nbformat_minor": 5
}
