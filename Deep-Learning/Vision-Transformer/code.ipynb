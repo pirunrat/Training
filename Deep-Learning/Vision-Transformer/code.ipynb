{
 "cells": [
  {
   "cell_type": "markdown",
   "id": "96f8be2a",
   "metadata": {},
   "source": [
    "# Vision Transformer"
   ]
  },
  {
   "cell_type": "code",
   "execution_count": 1,
   "id": "abc84f38",
   "metadata": {},
   "outputs": [],
   "source": [
    "import torch\n",
    "import torch.nn as nn\n",
    "import torch.nn.functional as F\n",
    "import torchvision\n",
    "import numpy as np\n",
    "import matplotlib.pyplot as plt\n",
    "import math"
   ]
  },
  {
   "cell_type": "markdown",
   "id": "476c8ff1",
   "metadata": {},
   "source": [
    "# Patch Embedding Layer"
   ]
  },
  {
   "cell_type": "code",
   "execution_count": 2,
   "id": "60adea1d",
   "metadata": {},
   "outputs": [],
   "source": [
    "class PatchEmbedding(nn.Module):\n",
    "    def __init__(self,img_size=224,  patch_size=16, in_channels=3,embed_dim=768):\n",
    "        super(PatchEmbedding, self).__init__()\n",
    "        \n",
    "        self.n_patches = (img_size //patch_size)**2\n",
    "        self.patch_size = patch_size\n",
    "        self.embed_dim = embed_dim\n",
    "        self.projection = nn.Conv2d(in_channels, embed_dim, kernel_size=patch_size, stride=patch_size)\n",
    "\n",
    "    def forward(self, x):\n",
    "        x = self.projection(x)\n",
    "        print(f'Projection shape: {x.shape}')\n",
    "        x = x.flatten(2)\n",
    "        x = x.transpose(1,2)\n",
    "\n",
    "        return x\n"
   ]
  },
  {
   "cell_type": "code",
   "execution_count": 3,
   "id": "0dd75369",
   "metadata": {},
   "outputs": [
    {
     "name": "stdout",
     "output_type": "stream",
     "text": [
      "Projection shape: torch.Size([1, 768, 14, 14])\n",
      "Output shape: torch.Size([1, 196, 768])\n"
     ]
    }
   ],
   "source": [
    "fake_input = torch.randn(1, 3, 224, 224)\n",
    "\n",
    "patch_embed = PatchEmbedding()\n",
    "out = patch_embed(fake_input)\n",
    "print(f'Output shape: {out.shape}')"
   ]
  },
  {
   "cell_type": "markdown",
   "id": "5e26a36d",
   "metadata": {},
   "source": [
    "# Transformer Block"
   ]
  },
  {
   "cell_type": "markdown",
   "id": "cdc25592",
   "metadata": {},
   "source": [
    "**Multi-Head Self-Attention**"
   ]
  },
  {
   "cell_type": "code",
   "execution_count": 4,
   "id": "a27b8c50",
   "metadata": {},
   "outputs": [],
   "source": [
    "class MultiHeadSelfAttention(nn.Module):\n",
    "    def __init__(self, embed_dim=768, num_heads=8):\n",
    "        super(MultiHeadSelfAttention, self).__init__()\n",
    "        \n",
    "        # Ensure the embedding dimension is divisible by the number of heads\n",
    "        assert embed_dim % num_heads == 0, \"Embedding dimension must be divisible by number of heads\"\n",
    "\n",
    "        self.embed_dim = embed_dim\n",
    "        self.num_heads = num_heads\n",
    "        self.head_dim = embed_dim // num_heads\n",
    "\n",
    "        # Linear projections for queries, keys, and values\n",
    "        self.q_proj = nn.Linear(embed_dim, embed_dim)\n",
    "        self.k_proj = nn.Linear(embed_dim, embed_dim)\n",
    "        self.v_proj = nn.Linear(embed_dim, embed_dim)\n",
    "\n",
    "        # output projection\n",
    "        self.out_proj = nn.Linear(embed_dim, embed_dim)\n",
    "\n",
    "    def forward(self, x):\n",
    "\n",
    "        batch_size, seq_length, embed_dim = x.size()\n",
    "\n",
    "        # Linear projections and reshape for multi-head attention\n",
    "        q = self.q_proj(x)\n",
    "        k = self.k_proj(x)\n",
    "        v = self.v_proj(x)\n",
    "        print(f'Q shape: {q.shape}')\n",
    "\n",
    "        # Reshape to (batch_size, num_heads, seq_length, head_dim)\n",
    "        q = q.view(batch_size, seq_length, self.num_heads, self.head_dim).transpose(1,2)\n",
    "        k = k.view(batch_size, seq_length, self.num_heads, self.head_dim).transpose(1,2)\n",
    "        v = v.view(batch_size, seq_length, self.num_heads, self.head_dim).transpose(1,2)\n",
    "\n",
    "        print(f'Q shape after reshape: {q.shape}')\n",
    "\n",
    "        # Scaled dot-product attention\n",
    "        attn_scores = torch.matmul(q,k.transpose(-2,-1))/math.sqrt(self.head_dim)\n",
    "        attn_weights = F.softmax(attn_scores, dim=-1)\n",
    "        attn_output = torch.matmul(attn_weights, v)\n",
    "\n",
    "        # Concatenate heads\n",
    "        attn_output = attn_output.transpose(1, 2).contiguous().view(batch_size, seq_length, embed_dim)\n",
    "\n",
    "         # Final linear projection\n",
    "        output = self.out_proj(attn_output)\n",
    "\n",
    "        return output"
   ]
  },
  {
   "cell_type": "code",
   "execution_count": 5,
   "id": "055fa446",
   "metadata": {},
   "outputs": [
    {
     "name": "stdout",
     "output_type": "stream",
     "text": [
      "Q shape: torch.Size([1, 196, 768])\n",
      "Q shape after reshape: torch.Size([1, 8, 196, 96])\n",
      "Output shape after attention: torch.Size([1, 196, 768])\n"
     ]
    }
   ],
   "source": [
    "multi_head_attn = MultiHeadSelfAttention()\n",
    "\n",
    "out = multi_head_attn(out)\n",
    "\n",
    "print(f'Output shape after attention: {out.shape}')"
   ]
  },
  {
   "cell_type": "markdown",
   "id": "e68b4fef",
   "metadata": {},
   "source": [
    "**Feed Forward Network**"
   ]
  },
  {
   "cell_type": "code",
   "execution_count": 6,
   "id": "20f2b3ab",
   "metadata": {},
   "outputs": [],
   "source": [
    "class FeedForward(nn.Module):\n",
    "    def __init__(self, embed_dim=768, expansion_factor=4):\n",
    "        super(FeedForward, self).__init__()\n",
    "\n",
    "        self.fc1 = nn.Linear(embed_dim, embed_dim * expansion_factor)\n",
    "        self.fc2 = nn.Linear(embed_dim * expansion_factor, embed_dim)\n",
    "        self.dropout = nn.Dropout(0.1)\n",
    "\n",
    "    def forward(self, x):\n",
    "        x = self.fc1(x)\n",
    "        x = F.gelu(x)\n",
    "        x = self.dropout(x)\n",
    "        x = self.fc2(x)\n",
    "        \n",
    "        return x"
   ]
  },
  {
   "cell_type": "code",
   "execution_count": 7,
   "id": "f3622600",
   "metadata": {},
   "outputs": [
    {
     "name": "stdout",
     "output_type": "stream",
     "text": [
      "Output shape after feed-forward: torch.Size([1, 196, 768])\n"
     ]
    }
   ],
   "source": [
    "feed_forward = FeedForward()\n",
    "out = feed_forward(out)\n",
    "\n",
    "print(f'Output shape after feed-forward: {out.shape}')"
   ]
  },
  {
   "cell_type": "markdown",
   "id": "e4f99ee3",
   "metadata": {},
   "source": [
    "**Transformer Encoder Block (1 layer)**"
   ]
  },
  {
   "cell_type": "code",
   "execution_count": 8,
   "id": "e58b12a2",
   "metadata": {},
   "outputs": [],
   "source": [
    "class Encoder(nn.Module):\n",
    "    def __init__(self, embed_dim=768, num_heads=8):\n",
    "        super().__init__()\n",
    "        self.attn = MultiHeadSelfAttention(embed_dim, num_heads)\n",
    "        self.norm1 = nn.LayerNorm(embed_dim)\n",
    "        self.ff = FeedForward(embed_dim)\n",
    "        self.norm2 = nn.LayerNorm(embed_dim)\n",
    "\n",
    "    def forward(self, x):\n",
    "        # Residual connection + LayerNorm\n",
    "        x = x + self.attn(self.norm1(x))\n",
    "        x = x + self.ff(self.norm2(x))\n",
    "        return x"
   ]
  },
  {
   "cell_type": "code",
   "execution_count": 9,
   "id": "69c8cbbe",
   "metadata": {},
   "outputs": [
    {
     "name": "stdout",
     "output_type": "stream",
     "text": [
      "Q shape: torch.Size([1, 196, 768])\n",
      "Q shape after reshape: torch.Size([1, 8, 196, 96])\n",
      "Output shape after encoder: torch.Size([1, 196, 768])\n"
     ]
    }
   ],
   "source": [
    "enc = Encoder()\n",
    "out = enc(out)\n",
    "\n",
    "print(f'Output shape after encoder: {out.shape}')"
   ]
  },
  {
   "cell_type": "markdown",
   "id": "c07164de",
   "metadata": {},
   "source": [
    "**Transformer Encoder (12 layers)**"
   ]
  },
  {
   "cell_type": "code",
   "execution_count": null,
   "id": "153e7a20",
   "metadata": {},
   "outputs": [],
   "source": [
    "class TransformerEncoder(nn.Module):\n",
    "    def __init__(self, embed_dim=768, num_heads=8, depth=12):\n",
    "        super().__init__()\n",
    "        self.layers = nn.ModuleList([Encoder(embed_dim, num_heads) for _ in range(depth)])\n",
    "        self.norm = nn.LayerNorm(embed_dim)\n",
    "\n",
    "    def forward(self, x):\n",
    "        for layer in self.layers:\n",
    "            x = layer(x)\n",
    "        return self.norm(x)\n"
   ]
  },
  {
   "cell_type": "code",
   "execution_count": 11,
   "id": "0430ba1c",
   "metadata": {},
   "outputs": [
    {
     "name": "stdout",
     "output_type": "stream",
     "text": [
      "Q shape: torch.Size([4, 128, 768])\n",
      "Q shape after reshape: torch.Size([4, 12, 128, 64])\n",
      "Q shape: torch.Size([4, 128, 768])\n",
      "Q shape after reshape: torch.Size([4, 12, 128, 64])\n",
      "Q shape: torch.Size([4, 128, 768])\n",
      "Q shape after reshape: torch.Size([4, 12, 128, 64])\n",
      "Q shape: torch.Size([4, 128, 768])\n",
      "Q shape after reshape: torch.Size([4, 12, 128, 64])\n",
      "Q shape: torch.Size([4, 128, 768])\n",
      "Q shape after reshape: torch.Size([4, 12, 128, 64])\n",
      "Q shape: torch.Size([4, 128, 768])\n",
      "Q shape after reshape: torch.Size([4, 12, 128, 64])\n",
      "Q shape: torch.Size([4, 128, 768])\n",
      "Q shape after reshape: torch.Size([4, 12, 128, 64])\n",
      "Q shape: torch.Size([4, 128, 768])\n",
      "Q shape after reshape: torch.Size([4, 12, 128, 64])\n",
      "Q shape: torch.Size([4, 128, 768])\n",
      "Q shape after reshape: torch.Size([4, 12, 128, 64])\n",
      "Q shape: torch.Size([4, 128, 768])\n",
      "Q shape after reshape: torch.Size([4, 12, 128, 64])\n",
      "Q shape: torch.Size([4, 128, 768])\n",
      "Q shape after reshape: torch.Size([4, 12, 128, 64])\n",
      "Q shape: torch.Size([4, 128, 768])\n",
      "Q shape after reshape: torch.Size([4, 12, 128, 64])\n",
      "torch.Size([4, 128, 768])\n"
     ]
    }
   ],
   "source": [
    "embed_dim = 768   # like BERT-base or ViT-base\n",
    "num_heads = 12\n",
    "depth = 12        # 12 transformer blocks\n",
    "seq_len = 128     # number of tokens\n",
    "batch_size = 4\n",
    "\n",
    "x = torch.randn(batch_size, seq_len, embed_dim)\n",
    "\n",
    "model = TransformerEncoder(embed_dim, num_heads, depth)\n",
    "output = model(x)\n",
    "\n",
    "print(output.shape)  # ➤ (4, 128, 768)\n"
   ]
  }
 ],
 "metadata": {
  "kernelspec": {
   "display_name": "Python 3",
   "language": "python",
   "name": "python3"
  },
  "language_info": {
   "codemirror_mode": {
    "name": "ipython",
    "version": 3
   },
   "file_extension": ".py",
   "mimetype": "text/x-python",
   "name": "python",
   "nbconvert_exporter": "python",
   "pygments_lexer": "ipython3",
   "version": "3.9.0"
  }
 },
 "nbformat": 4,
 "nbformat_minor": 5
}
