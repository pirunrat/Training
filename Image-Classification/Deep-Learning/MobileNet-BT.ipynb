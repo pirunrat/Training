{
 "cells": [
  {
   "cell_type": "markdown",
   "metadata": {},
   "source": [
    "**Set up all the neccessary libraries**"
   ]
  },
  {
   "cell_type": "code",
   "execution_count": 1,
   "metadata": {},
   "outputs": [],
   "source": [
    "import torch\n",
    "import torch.nn as nn\n",
    "import torchvision.models as models\n",
    "import numpy as np\n",
    "import matplotlib.pyplot as plt\n",
    "import os\n",
    "from torch.optim import Adam\n",
    "import nibabel as nib\n",
    "from torch.utils.data import Dataset, DataLoader, random_split\n",
    "from torchvision import transforms\n",
    "from PIL import Image\n",
    "import torch.nn as nn\n",
    "import torch.optim as optim\n",
    "import torch.optim.lr_scheduler as lr_scheduler"
   ]
  },
  {
   "cell_type": "markdown",
   "metadata": {},
   "source": [
    "**Check if the GPU is available**"
   ]
  },
  {
   "cell_type": "markdown",
   "metadata": {},
   "source": [
    "If there is a GPU available, the device will be cuda otherwise it will be cpu"
   ]
  },
  {
   "cell_type": "code",
   "execution_count": 2,
   "metadata": {},
   "outputs": [
    {
     "name": "stdout",
     "output_type": "stream",
     "text": [
      "Device : cuda\n"
     ]
    }
   ],
   "source": [
    "# Determine the device\n",
    "device = torch.device('cuda' if torch.cuda.is_available() else 'cpu')\n",
    "print(f'Device : {device}')"
   ]
  },
  {
   "cell_type": "markdown",
   "metadata": {},
   "source": [
    "**Load dataset**"
   ]
  },
  {
   "cell_type": "code",
   "execution_count": 3,
   "metadata": {},
   "outputs": [
    {
     "name": "stdout",
     "output_type": "stream",
     "text": [
      "Training path : C:\\Users\\user\\Desktop\\Brain-Tumor\\Train\\Brain_Tumor_Classification\\Training\n",
      "Testing path : C:\\Users\\user\\Desktop\\Brain-Tumor\\Train\\Brain_Tumor_Classification\\Testing\n"
     ]
    }
   ],
   "source": [
    "base_path = r'C:\\Users\\user\\Desktop\\Brain-Tumor\\Train\\Brain_Tumor_Classification'\n",
    "\n",
    "train_path = os.path.join(base_path, 'Training')\n",
    "testing_path = os.path.join(base_path, 'Testing')\n",
    "\n",
    "if not (os.path.exists(train_path) and os.path.exists(testing_path)):\n",
    "    print('Failed to find the data path ')\n",
    "else:\n",
    "    print(f'Training path : {train_path}')\n",
    "    print(f'Testing path : {testing_path}')"
   ]
  },
  {
   "cell_type": "markdown",
   "metadata": {},
   "source": [
    "This CustomDataset class is a way to organize and load images for training a neural network in PyTorch. Here’s a breakdown of how it works in simple terms:\n",
    "\n",
    "1. Initialization (__init__):\n",
    "    When you create an instance of this class, you give it a folder path (root_dir) where your images are stored, and an optional transformation (transform) to apply to the images (e.g., resizing, normalization).\n",
    "    The class looks inside the folder, and each subfolder is treated as a class (or category). For example, if you have two folders named 'cats' and 'dogs', the class assigns a label (like 0 for cats, 1 for dogs) to each folder.\n",
    "    It then goes through each subfolder, collects the paths to the image files, and saves them in self.img_paths. At the same time, it keeps track of which class (or label) each image belongs to in self.labels.\n",
    "\n",
    "2. Getting the dataset size (__len__):\n",
    "    This method simply returns the number of images in the dataset. So if you have 1,000 images, this method will return 1,000.\n",
    "\n",
    "3. Getting a single image and its label (__getitem__):\n",
    "    When you ask for an image by its index (e.g., the 5th image), this method loads that image from the img_paths list.\n",
    "    It converts the image to RGB format (since some images might have different color formats).\n",
    "    It also fetches the corresponding label (like 0 for 'cat' or 1 for 'dog').\n",
    "    If you provided any transformations (like resizing or normalizing), it applies them to the image.\n",
    "    Finally, it returns both the processed image and its label."
   ]
  },
  {
   "cell_type": "code",
   "execution_count": 4,
   "metadata": {},
   "outputs": [],
   "source": [
    "# Define a Dataset class\n",
    "\n",
    "class CustomDataset(Dataset):\n",
    "    def __init__(self, root_dir, transform=None):\n",
    "        super().__init__()\n",
    "        self.root_dir = root_dir\n",
    "        self.transform = transform\n",
    "        self.img_paths = []\n",
    "        self.labels = []\n",
    "\n",
    "        # Mapping folder names to labels \n",
    "        class_folders = sorted(os.listdir(root_dir))\n",
    "        self.class_to_idx = {class_folder:idx for idx, class_folder in enumerate(class_folders)}\n",
    "\n",
    "        for class_folder in class_folders:\n",
    "            folder_path = os.path.join(root_dir,class_folder)\n",
    "            for img_name in os.listdir(folder_path):\n",
    "                img_path = os.path.join(folder_path,img_name)\n",
    "                self.img_paths.append(img_path)\n",
    "                self.labels.append(self.class_to_idx[class_folder])\n",
    "\n",
    "    def __len__(self):\n",
    "        return len(self.img_paths)\n",
    "    \n",
    "    def __getitem__(self, idx):\n",
    "        img_path = self.img_paths[idx]\n",
    "        image = Image.open(img_path).convert('RGB')\n",
    "        label = self.labels[idx]\n",
    "\n",
    "        if self.transform:\n",
    "            image = self.transform(image)\n",
    "        \n",
    "        return image,label"
   ]
  },
  {
   "cell_type": "code",
   "execution_count": 5,
   "metadata": {},
   "outputs": [],
   "source": [
    "# Define your transform\n",
    "transform = transforms.Compose([\n",
    "    # Randomly flip the image horizontally with a 50% chance\n",
    "    transforms.RandomHorizontalFlip(p=0.5),\n",
    "    \n",
    "    # Randomly flip the image vertically with a 50% chance\n",
    "    transforms.RandomVerticalFlip(p=0.5),\n",
    "    \n",
    "    # Randomly rotate the image by ±10 degrees\n",
    "    transforms.RandomRotation(degrees=10),\n",
    "    \n",
    "    # Resize the image to 224x224 pixels\n",
    "    transforms.Resize((224, 224)),\n",
    "    \n",
    "    # Convert the image to a tensor with values in the range [0, 1]\n",
    "    transforms.ToTensor(),\n",
    "    \n",
    "    # Normalize the image with mean and standard deviation\n",
    "    # Use values based on your dataset, for example, for ImageNet:\n",
    "    transforms.Normalize(mean=[0.485, 0.456, 0.406], std=[0.229, 0.224, 0.225])\n",
    "])\n",
    "\n",
    "\n",
    "# Load the dataset\n",
    "train_dataset = CustomDataset(root_dir=train_path, transform=transform)\n",
    "test_dataset = CustomDataset(root_dir=testing_path, transform=transform)\n",
    "\n",
    "\n",
    "\n",
    "# Calculate lengths for training and validation sets\n",
    "train_size = int(0.8 * len(train_dataset))\n",
    "valid_size = len(train_dataset) - train_size\n",
    "\n",
    "# Split the dataset\n",
    "train_subset, valid_subset = random_split(train_dataset, [train_size, valid_size])\n",
    "\n",
    "\n",
    "\n",
    "\n",
    "# Create DataLoaders for each subset\n",
    "train_loader = DataLoader(train_subset, batch_size=16, shuffle=True)\n",
    "valid_loader = DataLoader(valid_subset, batch_size=16, shuffle=False)\n",
    "\n",
    "# Load the test dataset (remains unchanged)\n",
    "test_loader = DataLoader(test_dataset, batch_size=16, shuffle=False)"
   ]
  },
  {
   "cell_type": "code",
   "execution_count": 6,
   "metadata": {},
   "outputs": [
    {
     "name": "stdout",
     "output_type": "stream",
     "text": [
      "torch.Size([16, 3, 224, 224])\n",
      "torch.Size([16])\n"
     ]
    }
   ],
   "source": [
    "# Test data loader\n",
    "\n",
    "# Iterate through the data by batch\n",
    "for image, label in train_loader:\n",
    "    # Move the data to GPU for fast training\n",
    "    img = image.to(device)\n",
    "    label = label.to(device)\n",
    "\n",
    "    # We put break here since we just want to check only a single batch of the data\n",
    "    break\n",
    "\n",
    "print(img.shape)\n",
    "print(label.shape)"
   ]
  },
  {
   "cell_type": "markdown",
   "metadata": {},
   "source": [
    "As can be seen, the structure of the data is organized as a torch tensor where the most left represents the batchsize followed by the number of channels, width, and height respectively.\n",
    "\n",
    "And the label is a vector tensor of batch size representing the corresponding labels for each image."
   ]
  },
  {
   "cell_type": "markdown",
   "metadata": {},
   "source": [
    "**Define the Model**"
   ]
  },
  {
   "cell_type": "markdown",
   "metadata": {},
   "source": [
    "**Why do we need nn.Module**\n",
    "\n",
    "When creating a custom model in PyTorch, we subclass nn.Module because it provides essential functionalities and structure for building neural networks. Here’s why calling nn.Module is necessary:\n",
    "\n",
    "1. Model Composition: nn.Module is a base class for all neural network modules in PyTorch. It allows you to define layers as attributes (e.g., self.conv, self.fc) and organize them in a coherent way. By subclassing nn.Module, you can easily group layers together and access them in the forward pass.\n",
    "\n",
    "2. Parameter Management: When you define layers within a subclass of nn.Module, PyTorch automatically registers the parameters (weights and biases) of those layers. This allows the optimizer to access and update them during training without manual intervention.\n",
    "\n",
    "3. Forward Propagation: By overriding the forward() method in your custom model, you define how data flows through the network. nn.Module provides a standardized way to define this behavior. You call model(input) and PyTorch internally invokes model.forward(input).\n",
    "\n",
    "4. Module Nesting: nn.Module allows you to easily combine different submodules (like layers or blocks). For example, you can define smaller modules and nest them inside larger ones. This provides flexibility in designing complex architectures.\n",
    "\n",
    "5. CUDA and Device Handling: nn.Module provides built-in methods like to(device) and cuda(), which automatically move all the model’s parameters to the correct device (CPU/GPU). Without subclassing nn.Module, you would need to manually manage this for each layer.\n"
   ]
  },
  {
   "cell_type": "code",
   "execution_count": 7,
   "metadata": {},
   "outputs": [],
   "source": [
    "\n",
    "# Define the custom model\n",
    "class MobileNetBT(nn.Module):\n",
    "    def __init__(self, num_classes=4, dropout_prob=0.2):\n",
    "        super(MobileNetBT, self).__init__()\n",
    "        # Load the pre-trained MobileNetV2 model\n",
    "        mobilenet = models.mobilenet_v2(pretrained=True)\n",
    "        \n",
    "        #freeze all layers\n",
    "        for param in mobilenet.parameters():\n",
    "            param.requires_grad = False\n",
    "        \n",
    "        # Replace the classifier with a custom classifier\n",
    "        self.features = mobilenet.features\n",
    "        self.classifier = nn.Sequential(\n",
    "            nn.Dropout(p=dropout_prob),  # Dropout layer with 20% probability\n",
    "            nn.Linear(mobilenet.last_channel, 512),  # Linear layer with 1000 output features\n",
    "            nn.ReLU(inplace=True),  # ReLU activation\n",
    "            nn.Dropout(p=dropout_prob),  # Additional dropout layer\n",
    "            nn.Linear(512, num_classes)  # Final linear layer with 4 output classes\n",
    "        )\n",
    "\n",
    "        # Unfreeze the last 5 layers of MobileNetV2\n",
    "        self.unfreeze_last_n_layers(mobilenet.features, 5)\n",
    "        \n",
    "    def unfreeze_last_n_layers(self, module, n):\n",
    "        \"\"\"\n",
    "        Unfreeze the last `n` layers of a given module.\n",
    "        \"\"\"\n",
    "        # Identify the named modules\n",
    "        named_modules = list(module.named_children())\n",
    "        # Iterate over the last `n` layers and unfreeze them\n",
    "        for i, (name, child) in enumerate(named_modules[-n:]):\n",
    "            for param in child.parameters():\n",
    "                param.requires_grad = True\n",
    "            print(f\"Unfreezing layer: {name}\")\n",
    "\n",
    "    def forward(self, x):\n",
    "        x = self.features(x)\n",
    "        x = x.mean([2, 3])  # Global average pooling\n",
    "        x = self.classifier(x)\n",
    "        return x"
   ]
  },
  {
   "cell_type": "code",
   "execution_count": 8,
   "metadata": {},
   "outputs": [
    {
     "name": "stdout",
     "output_type": "stream",
     "text": [
      "Unfreezing layer: 14\n",
      "Unfreezing layer: 15\n",
      "Unfreezing layer: 16\n",
      "Unfreezing layer: 17\n",
      "Unfreezing layer: 18\n"
     ]
    },
    {
     "name": "stderr",
     "output_type": "stream",
     "text": [
      "c:\\Users\\user\\AppData\\Local\\Programs\\Python\\Python39\\lib\\site-packages\\torchvision\\models\\_utils.py:208: UserWarning: The parameter 'pretrained' is deprecated since 0.13 and may be removed in the future, please use 'weights' instead.\n",
      "  warnings.warn(\n",
      "c:\\Users\\user\\AppData\\Local\\Programs\\Python\\Python39\\lib\\site-packages\\torchvision\\models\\_utils.py:223: UserWarning: Arguments other than a weight enum or `None` for 'weights' are deprecated since 0.13 and may be removed in the future. The current behavior is equivalent to passing `weights=MobileNet_V2_Weights.IMAGENET1K_V1`. You can also use `weights=MobileNet_V2_Weights.DEFAULT` to get the most up-to-date weights.\n",
      "  warnings.warn(msg)\n"
     ]
    }
   ],
   "source": [
    "# Instantiate the model\n",
    "model = MobileNetBT(num_classes=4)\n",
    "model = model.to(device)"
   ]
  },
  {
   "cell_type": "markdown",
   "metadata": {},
   "source": [
    "**Check the number of parameters**"
   ]
  },
  {
   "cell_type": "markdown",
   "metadata": {},
   "source": [
    "In this part, we can check the number of parameters that either require or don't require gradient update."
   ]
  },
  {
   "cell_type": "code",
   "execution_count": 9,
   "metadata": {},
   "outputs": [
    {
     "name": "stdout",
     "output_type": "stream",
     "text": [
      "The number of parameters : 2881796\n"
     ]
    }
   ],
   "source": [
    "# Calculate the total number of parameters\n",
    "total_params = sum(p.numel() for p in model.parameters())\n",
    "\n",
    "print(f'The number of parameters : {total_params}')"
   ]
  },
  {
   "cell_type": "code",
   "execution_count": 10,
   "metadata": {},
   "outputs": [
    {
     "name": "stdout",
     "output_type": "stream",
     "text": [
      "The number of parameters that require gradient update: 2339268\n"
     ]
    }
   ],
   "source": [
    "# Calculate the total number of parameters that require gradient update\n",
    "total_params = sum(p.numel() for p in model.parameters() if p.requires_grad)\n",
    "\n",
    "print(f'The number of parameters that require gradient update: {total_params}')"
   ]
  },
  {
   "cell_type": "code",
   "execution_count": 11,
   "metadata": {},
   "outputs": [
    {
     "name": "stdout",
     "output_type": "stream",
     "text": [
      "The number of parameters that don't require gradient update: 542528\n"
     ]
    }
   ],
   "source": [
    "# Calculate the total number of parameters that require gradient update\n",
    "total_params = sum(p.numel() for p in model.parameters() if not p.requires_grad)\n",
    "\n",
    "print(f\"The number of parameters that don't require gradient update: {total_params}\")"
   ]
  },
  {
   "cell_type": "markdown",
   "metadata": {},
   "source": [
    "Notice that the total number of parameters is equal to the combination of The number of parameters that require gradient update and The number of parameters that don't require gradient update"
   ]
  },
  {
   "cell_type": "code",
   "execution_count": 12,
   "metadata": {},
   "outputs": [
    {
     "name": "stdout",
     "output_type": "stream",
     "text": [
      "torch.Size([16, 4])\n"
     ]
    }
   ],
   "source": [
    "# Test the model and input compatability\n",
    "\n",
    "test = model(img)\n",
    "\n",
    "print(test.shape)"
   ]
  },
  {
   "cell_type": "markdown",
   "metadata": {},
   "source": [
    "**Train**"
   ]
  },
  {
   "cell_type": "code",
   "execution_count": 14,
   "metadata": {},
   "outputs": [],
   "source": [
    "criterion = nn.CrossEntropyLoss()\n",
    "optimizer = optim.Adam(model.parameters(), lr=0.002)\n",
    "scheduler = lr_scheduler.StepLR(optimizer, step_size=8, gamma=0.1)\n",
    "num_epochs = 15\n",
    "patience = 8\n",
    "best_val_acc = 0.0\n",
    "epochs_no_improve = 0"
   ]
  },
  {
   "cell_type": "code",
   "execution_count": 15,
   "metadata": {},
   "outputs": [
    {
     "name": "stdout",
     "output_type": "stream",
     "text": [
      "Epoch [1/15], Training Loss: 0.6840, Validation Accuracy: 0.8484\n",
      "Best model saved!\n",
      "Epoch [2/15], Training Loss: 0.4356, Validation Accuracy: 0.9164\n",
      "Best model saved!\n",
      "Epoch [3/15], Training Loss: 0.4124, Validation Accuracy: 0.8571\n",
      "Epoch [4/15], Training Loss: 0.3087, Validation Accuracy: 0.9077\n",
      "Epoch [5/15], Training Loss: 0.3172, Validation Accuracy: 0.8937\n",
      "Epoch [6/15], Training Loss: 0.3118, Validation Accuracy: 0.9042\n",
      "Epoch [7/15], Training Loss: 0.2646, Validation Accuracy: 0.8868\n",
      "Epoch [8/15], Training Loss: 0.2764, Validation Accuracy: 0.9199\n",
      "Best model saved!\n",
      "Epoch [9/15], Training Loss: 0.1954, Validation Accuracy: 0.9477\n",
      "Best model saved!\n",
      "Epoch [10/15], Training Loss: 0.1674, Validation Accuracy: 0.9512\n",
      "Best model saved!\n",
      "Epoch [11/15], Training Loss: 0.1521, Validation Accuracy: 0.9460\n",
      "Epoch [12/15], Training Loss: 0.1386, Validation Accuracy: 0.9564\n",
      "Best model saved!\n",
      "Epoch [13/15], Training Loss: 0.1451, Validation Accuracy: 0.9564\n",
      "Epoch [14/15], Training Loss: 0.1145, Validation Accuracy: 0.9634\n",
      "Best model saved!\n",
      "Epoch [15/15], Training Loss: 0.1389, Validation Accuracy: 0.9477\n"
     ]
    },
    {
     "data": {
      "image/png": "[encoded data removed]",
      "text/plain": [
       "<Figure size 1500x500 with 2 Axes>"
      ]
     },
     "metadata": {},
     "output_type": "display_data"
    }
   ],
   "source": [
    "# Track loss and accuracy\n",
    "train_losses = []\n",
    "val_accuracies = []\n",
    "val_losses = []\n",
    "\n",
    "for epoch in range(num_epochs):\n",
    "    # Training phase\n",
    "    model.train()\n",
    "    running_loss = 0.0\n",
    "    running_val_loss = 0.0\n",
    "    for inputs, labels in train_loader:\n",
    "        inputs, labels = inputs.to(device), labels.to(device)\n",
    "        optimizer.zero_grad()\n",
    "        outputs = model(inputs)\n",
    "        loss = criterion(outputs, labels)\n",
    "        loss.backward()\n",
    "        optimizer.step()\n",
    "        \n",
    "        running_loss += loss.item()\n",
    "\n",
    "    # Calculate average training loss\n",
    "    avg_train_loss = running_loss / len(train_loader)\n",
    "    train_losses.append(avg_train_loss)\n",
    "\n",
    "    # Validation phase\n",
    "    model.eval()\n",
    "    val_correct = 0\n",
    "    val_total = 0\n",
    "    with torch.no_grad():\n",
    "        for inputs, labels in valid_loader:\n",
    "            inputs, labels = inputs.to(device), labels.to(device)  \n",
    "            outputs = model(inputs)\n",
    "            _, predicted = torch.max(outputs.data, 1)\n",
    "\n",
    "            val_loss = criterion(outputs, labels)\n",
    "            running_val_loss += val_loss.item()\n",
    "\n",
    "            val_total += labels.size(0)\n",
    "            val_correct += (predicted == labels).sum().item()\n",
    "\n",
    "    val_acc = val_correct / val_total\n",
    "    val_accuracies.append(val_acc)\n",
    "\n",
    "    avg_val_loss = running_val_loss / len(valid_loader)\n",
    "    val_losses.append(avg_val_loss)\n",
    "    print(f'Epoch [{epoch+1}/{num_epochs}], Training Loss: {avg_train_loss:.4f}, Validation Accuracy: {val_acc:.4f}')\n",
    "\n",
    "    # Check if validation accuracy improved\n",
    "    if val_acc > best_val_acc:\n",
    "        best_val_acc = val_acc\n",
    "        epochs_no_improve = 0\n",
    "        # Save the best model\n",
    "        torch.save(model.state_dict(), f'BTC_at_{best_val_acc:.4f}.pth')\n",
    "        print('Best model saved!')\n",
    "    else:\n",
    "        epochs_no_improve += 1\n",
    "\n",
    "    # Adjust learning rate\n",
    "    scheduler.step()\n",
    "\n",
    "    # Check for early stopping\n",
    "    if epochs_no_improve >= patience:\n",
    "        print('Early stopping!')\n",
    "        break\n",
    "\n",
    "# Plot training and validation loss\n",
    "plt.figure(figsize=(15, 5))\n",
    "\n",
    "# Training and validation loss\n",
    "plt.subplot(1, 3, 1)\n",
    "plt.plot(range(len(train_losses)), train_losses, label='Training Loss', color='blue')\n",
    "plt.plot(range(len(val_losses)), val_losses, label='Validation Loss', color='orange')\n",
    "plt.xlabel('Epochs')\n",
    "plt.ylabel('Loss')\n",
    "plt.title('Training and Validation Loss')\n",
    "plt.legend()\n",
    "\n",
    "# Validation accuracy\n",
    "plt.subplot(1, 3, 2)\n",
    "plt.plot(range(len(val_accuracies)), val_accuracies, label='Validation Accuracy', color='green')\n",
    "plt.xlabel('Epochs')\n",
    "plt.ylabel('Accuracy')\n",
    "plt.title('Validation Accuracy over Epochs')\n",
    "plt.legend()\n",
    "\n",
    "plt.tight_layout()\n",
    "plt.show()"
   ]
  }
 ],
 "metadata": {
  "kernelspec": {
   "display_name": "Python 3",
   "language": "python",
   "name": "python3"
  },
  "language_info": {
   "codemirror_mode": {
    "name": "ipython",
    "version": 3
   },
   "file_extension": ".py",
   "mimetype": "text/x-python",
   "name": "python",
   "nbconvert_exporter": "python",
   "pygments_lexer": "ipython3",
   "version": "3.9.0"
  }
 },
 "nbformat": 4,
 "nbformat_minor": 2
}
