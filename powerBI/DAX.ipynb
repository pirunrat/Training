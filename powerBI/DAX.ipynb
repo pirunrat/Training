{
 "cells": [
  {
   "cell_type": "markdown",
   "metadata": {},
   "source": [
    "**DAX คืออะไร**"
   ]
  },
  {
   "cell_type": "markdown",
   "metadata": {},
   "source": [
    "DAX มาจากคำว่า Data Analysis Expression มันเปรียบเสมือนกับภาษาโปรแกรมแต่ไม่ใช่ ให้นึกว่ามันเหมือนคำสั่งในการคำนวนและสรุป Data นั่นเอง\n",
    "\n",
    "Function ของ DAX หลักๆ คือ:\n",
    "- สรุป Data \n",
    "- ใช้ Advanced Logic ใน Data"
   ]
  },
  {
   "cell_type": "markdown",
   "metadata": {},
   "source": [
    "**ส่วนประกอบหลักของ DAX**"
   ]
  },
  {
   "cell_type": "markdown",
   "metadata": {},
   "source": [
    "1. Functions  \n",
    "- Example:    \n",
    "  - Aggregation: SUM(), AVERAGE()  \n",
    "  - Logical: IF(), AND(), OR()  \n",
    "  - Filter: CALCULATE(), FILTER()"
   ]
  },
  {
   "cell_type": "markdown",
   "metadata": {},
   "source": [
    "2. Operators  \n",
    "- Arithmetric: +,-,*,/  \n",
    "- Comparators: >,<,="
   ]
  },
  {
   "cell_type": "markdown",
   "metadata": {},
   "source": [
    "3. Measure  \n",
    "คือสูตรคำนวณหรือฟังก์ชันที่ใช้สร้างค่าคำนวณแบบไดนามิก ซึ่งจะเปลี่ยนแปลงตาม context (บริบท) ของข้อมูลในรายงาน เช่น ตัวกรอง (Filters) หรือการเลือกในแผนภูมิ (Slicers/Charts)\n",
    "\n",
    "- ลักษณะสำคัญของ Measure\n",
    "  - ไดนามิก:  \n",
    "     ค่าใน Measure จะเปลี่ยนไปตามตัวกรองหรือการเลือกข้อมูลในรายงาน\n",
    "  - ไม่สร้างคอลัมน์ใหม่:  \n",
    "    ต่างจาก Calculated Columns ที่สร้างคอลัมน์ใหม่ในตาราง\n",
    "    Measure จะไม่เพิ่มข้อมูลในตาราง แต่จะใช้เฉพาะเวลาคำนวณและแสดงผล\n",
    "  - ใช้กับ Aggregation:  \n",
    "    Measure มักใช้คำนวณผลรวม ค่าเฉลี่ย เปอร์เซ็นต์ หรือค่าทางสถิติอื่น ๆ"
   ]
  },
  {
   "cell_type": "markdown",
   "metadata": {},
   "source": [
    "4. Calculated Table\n",
    "\n",
    "   คือการสร้างตารางใหม่ โดยมาจากการคำนวน หรือ การ Filter ของตารางอื่น  \n",
    "\n",
    "   ตัวอย่างเช่น High Sales Table = FILTER(Sales, Sales[Sales Amount] > 10000)  \n",
    "\n",
    "   คำสั่งนี้ คือ การสร้างตารางใหม่โดยที่ Filter มาจากตาราง Sales และ เลือก หรือ กรองเอาแต่ Row ที่มีค่า Sales Amount มากกว่า 10000"
   ]
  },
  {
   "cell_type": "markdown",
   "metadata": {},
   "source": [
    "5. Calculated Column\n",
    "   \n",
    "   - คอลัมน์ใหม่ที่เพิ่มในตาราง โดยค่าของแต่ละแถวจะคำนวณจาก DAX\n",
    "   - คำนวณแบบ row-by-row (ต่อแถว) ตามข้อมูลที่มีในแถวเดียวกัน\n",
    "   - ตัวอย่าง\n",
    "     - Profit = Sales[Revenue] - Sales[Cost] \n",
    "       คำสั่งนี้ คือ การสร้าง column ใหม่โดยการนำ column Revenue และ Cost จาก ตาราง Sales มาลบกัน โดยมีชื่อ column ใหม่ว่า Profit"
   ]
  }
 ],
 "metadata": {
  "language_info": {
   "name": "python"
  }
 },
 "nbformat": 4,
 "nbformat_minor": 2
}
